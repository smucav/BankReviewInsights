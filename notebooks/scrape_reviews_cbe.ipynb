{
 "cells": [
  {
   "cell_type": "code",
   "execution_count": 1,
   "id": "482d62d9-385a-4a2e-8ae5-a8a5f90621eb",
   "metadata": {},
   "outputs": [],
   "source": [
    "import pandas as pd\n",
    "import sys\n",
    "import os\n",
    "sys.path.append(os.path.abspath(\"..\"))\n",
    "from scripts.scraper import BankReviewScraper\n",
    "from scripts.preprocessor import ReviewPreprocessor\n"
   ]
  },
  {
   "cell_type": "code",
   "execution_count": 2,
   "id": "2195abed-ae1c-412b-a7bb-46725da421b2",
   "metadata": {},
   "outputs": [],
   "source": [
    "bank = 'Commercial Bank of Ethiopia'\n",
    "app_id = 'com.combanketh.mobilebanking'\n",
    "\n",
    "raw_path = '../data/raw/cbe_raw_reviews.csv'\n",
    "processed_path = '../data/processed/cbe_reviews.csv'"
   ]
  },
  {
   "cell_type": "code",
   "execution_count": 6,
   "id": "6d983a55-1128-4e61-9a54-802cd5ee9bed",
   "metadata": {},
   "outputs": [
    {
     "name": "stdout",
     "output_type": "stream",
     "text": [
      "550\n",
      "                                              review  rating  \\\n",
      "0  everytime you uninstall the app you have to re...       1   \n",
      "1  አካውንት የምናስገባበት ቦታ ስም ጽፈን ነው ከዚህ በፊት የላክንባቸውን አ...       4   \n",
      "2                                               best       5   \n",
      "3                                            bezabih       5   \n",
      "4                       Best Mobile Banking app ever       5   \n",
      "\n",
      "                 date                         bank       source  \n",
      "0 2025-06-04 21:33:36  Commercial Bank of Ethiopia  Google Play  \n",
      "1 2025-06-04 20:54:30  Commercial Bank of Ethiopia  Google Play  \n",
      "2 2025-06-04 19:59:04  Commercial Bank of Ethiopia  Google Play  \n",
      "3 2025-06-04 18:22:41  Commercial Bank of Ethiopia  Google Play  \n",
      "4 2025-06-04 16:50:52  Commercial Bank of Ethiopia  Google Play  \n"
     ]
    }
   ],
   "source": [
    "scraper = BankReviewScraper(app_id, bank)\n",
    "df = scraper.fetch_reviews(550)\n",
    "print(len(df))\n",
    "print(df.head())"
   ]
  },
  {
   "cell_type": "code",
   "execution_count": 7,
   "id": "2fa5f640-8bcb-418e-81b4-cc83129dc301",
   "metadata": {},
   "outputs": [],
   "source": [
    "# Save raw data\n",
    "os.makedirs('../data/raw', exist_ok=True)\n",
    "df.to_csv(raw_path, index=False)"
   ]
  },
  {
   "cell_type": "code",
   "execution_count": 8,
   "id": "4fcd2e5d-6459-436d-84bd-348bdfa57cb5",
   "metadata": {},
   "outputs": [
    {
     "name": "stdout",
     "output_type": "stream",
     "text": [
      "Dropped 190 rows (34.55%)\n",
      "                                               review  rating        date  \\\n",
      "0   everytime you uninstall the app you have to re...       1  2025-06-04   \n",
      "4                        Best Mobile Banking app ever       5  2025-06-04   \n",
      "6   it was good app but it have some issues like i...       2  2025-06-04   \n",
      "11                                          very niec       5  2025-06-04   \n",
      "12                                best app of finance       5  2025-06-04   \n",
      "\n",
      "                           bank       source  \n",
      "0   Commercial Bank of Ethiopia  Google Play  \n",
      "4   Commercial Bank of Ethiopia  Google Play  \n",
      "6   Commercial Bank of Ethiopia  Google Play  \n",
      "11  Commercial Bank of Ethiopia  Google Play  \n",
      "12  Commercial Bank of Ethiopia  Google Play  \n",
      "360\n"
     ]
    }
   ],
   "source": [
    "# Clean the data\n",
    "preprocessor = ReviewPreprocessor(df)\n",
    "clean_df = preprocessor.clean()\n",
    "\n",
    "# Save cleaned data\n",
    "os.makedirs('../data/processed', exist_ok=True)\n",
    "clean_df.to_csv(processed_path, index=False)\n",
    "print(clean_df.head())\n",
    "print(len(clean_df))"
   ]
  },
  {
   "cell_type": "code",
   "execution_count": null,
   "id": "1b75a408-504c-4070-bcb9-7d3dde6f659a",
   "metadata": {},
   "outputs": [],
   "source": []
  }
 ],
 "metadata": {
  "kernelspec": {
   "display_name": "Python 3 (ipykernel)",
   "language": "python",
   "name": "python3"
  },
  "language_info": {
   "codemirror_mode": {
    "name": "ipython",
    "version": 3
   },
   "file_extension": ".py",
   "mimetype": "text/x-python",
   "name": "python",
   "nbconvert_exporter": "python",
   "pygments_lexer": "ipython3",
   "version": "3.10.17"
  }
 },
 "nbformat": 4,
 "nbformat_minor": 5
}
