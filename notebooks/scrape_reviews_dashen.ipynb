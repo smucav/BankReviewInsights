{
 "cells": [
  {
   "cell_type": "code",
   "execution_count": 1,
   "id": "881edd84-64ea-4af8-8342-c151226e13ba",
   "metadata": {},
   "outputs": [],
   "source": [
    "import pandas as pd\n",
    "import sys\n",
    "import os\n",
    "sys.path.append(os.path.abspath(\"..\"))\n",
    "from scripts.scraper import BankReviewScraper\n",
    "from scripts.preprocessor import ReviewPreprocessor"
   ]
  },
  {
   "cell_type": "code",
   "execution_count": 2,
   "id": "6e83cd9a-83e6-457b-aaea-e82e29221e70",
   "metadata": {},
   "outputs": [],
   "source": [
    "bank = 'Dashen Bank'\n",
    "app_id = 'com.dashen.dashensuperapp'\n",
    "\n",
    "raw_path = '../data/raw/dashen_raw_reviews.csv'\n",
    "processed_path = '../data/processed/dashen_reviews.csv'"
   ]
  },
  {
   "cell_type": "code",
   "execution_count": 13,
   "id": "d90cab06-9f01-4284-9fe7-35d9ea8d55dd",
   "metadata": {},
   "outputs": [
    {
     "name": "stdout",
     "output_type": "stream",
     "text": [
      "448\n",
      "                                review  rating                date  \\\n",
      "0                                 መቸሸጠ       5 2025-06-03 19:40:31   \n",
      "1                                  wow       5 2025-06-03 17:30:11   \n",
      "2                                gadaa       5 2025-06-01 17:10:53   \n",
      "3  Massive upgrade from the Amole app.       5 2025-05-31 23:04:04   \n",
      "4                                 good       4 2025-05-31 22:39:35   \n",
      "\n",
      "          bank       source  \n",
      "0  Dashen Bank  Google Play  \n",
      "1  Dashen Bank  Google Play  \n",
      "2  Dashen Bank  Google Play  \n",
      "3  Dashen Bank  Google Play  \n",
      "4  Dashen Bank  Google Play  \n"
     ]
    }
   ],
   "source": [
    "scraper = BankReviewScraper(app_id, bank)\n",
    "df = scraper.fetch_reviews(450)\n",
    "print(len(df))\n",
    "print(df.head())"
   ]
  },
  {
   "cell_type": "code",
   "execution_count": 14,
   "id": "8edeecc7-3a61-417e-a1b2-42621f994144",
   "metadata": {},
   "outputs": [],
   "source": [
    "# Save raw data\n",
    "os.makedirs('../data/raw', exist_ok=True)\n",
    "df.to_csv(raw_path, index=False)"
   ]
  },
  {
   "cell_type": "code",
   "execution_count": 15,
   "id": "41b85352-5f82-4007-ae21-a48761e76538",
   "metadata": {},
   "outputs": [
    {
     "name": "stdout",
     "output_type": "stream",
     "text": [
      "Dropped 87 rows (19.42%)\n",
      "                                               review  rating        date  \\\n",
      "3                 Massive upgrade from the Amole app.       5  2025-05-31   \n",
      "5                              very good for this app       5  2025-05-31   \n",
      "7   this app better than Amole . but the biometric...       4  2025-05-31   \n",
      "10                        wow to it saff and this app       5  2025-05-30   \n",
      "11                                        it too slow       3  2025-05-29   \n",
      "\n",
      "           bank       source  \n",
      "3   Dashen Bank  Google Play  \n",
      "5   Dashen Bank  Google Play  \n",
      "7   Dashen Bank  Google Play  \n",
      "10  Dashen Bank  Google Play  \n",
      "11  Dashen Bank  Google Play  \n",
      "361\n"
     ]
    }
   ],
   "source": [
    "# Clean the data\n",
    "preprocessor = ReviewPreprocessor(df)\n",
    "clean_df = preprocessor.clean()\n",
    "\n",
    "# Save cleaned data\n",
    "os.makedirs('../data/processed', exist_ok=True)\n",
    "clean_df.to_csv(processed_path, index=False)\n",
    "print(clean_df.head())\n",
    "print(len(clean_df))"
   ]
  },
  {
   "cell_type": "code",
   "execution_count": null,
   "id": "a582a8c1-f405-4393-9a9d-5046b9a158dd",
   "metadata": {},
   "outputs": [],
   "source": []
  }
 ],
 "metadata": {
  "kernelspec": {
   "display_name": "Python 3 (ipykernel)",
   "language": "python",
   "name": "python3"
  },
  "language_info": {
   "codemirror_mode": {
    "name": "ipython",
    "version": 3
   },
   "file_extension": ".py",
   "mimetype": "text/x-python",
   "name": "python",
   "nbconvert_exporter": "python",
   "pygments_lexer": "ipython3",
   "version": "3.10.17"
  }
 },
 "nbformat": 4,
 "nbformat_minor": 5
}
