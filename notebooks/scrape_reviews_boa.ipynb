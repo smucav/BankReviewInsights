{
 "cells": [
  {
   "cell_type": "code",
   "execution_count": 1,
   "id": "881edd84-64ea-4af8-8342-c151226e13ba",
   "metadata": {},
   "outputs": [],
   "source": [
    "import pandas as pd\n",
    "import sys\n",
    "import os\n",
    "sys.path.append(os.path.abspath(\"..\"))\n",
    "from scripts.scraper import BankReviewScraper\n",
    "from scripts.preprocessor import ReviewPreprocessor"
   ]
  },
  {
   "cell_type": "code",
   "execution_count": 2,
   "id": "6e83cd9a-83e6-457b-aaea-e82e29221e70",
   "metadata": {},
   "outputs": [],
   "source": [
    "bank = 'Bank of Abyssinia'\n",
    "app_id = 'com.boa.boaMobileBanking'\n",
    "\n",
    "raw_path = '../data/raw/boa_raw_reviews.csv'\n",
    "processed_path = '../data/processed/boa_reviews.csv'"
   ]
  },
  {
   "cell_type": "code",
   "execution_count": 19,
   "id": "d90cab06-9f01-4284-9fe7-35d9ea8d55dd",
   "metadata": {},
   "outputs": [
    {
     "name": "stdout",
     "output_type": "stream",
     "text": [
      "540\n",
      "                                              review  rating  \\\n",
      "0  Hello, I’m facing a problem with the BOA Mobil...       1   \n",
      "1                                        exceptional       5   \n",
      "2                               BoA Mobile good bank       5   \n",
      "3                    this is worest app 24/7 loading       1   \n",
      "4  This App is not interest for Android phone Ple...       1   \n",
      "\n",
      "                 date               bank       source  \n",
      "0 2025-06-03 16:21:34  Bank of Abyssinia  Google Play  \n",
      "1 2025-06-03 10:32:35  Bank of Abyssinia  Google Play  \n",
      "2 2025-06-02 14:25:12  Bank of Abyssinia  Google Play  \n",
      "3 2025-06-01 15:51:10  Bank of Abyssinia  Google Play  \n",
      "4 2025-06-01 10:17:10  Bank of Abyssinia  Google Play  \n"
     ]
    }
   ],
   "source": [
    "scraper = BankReviewScraper(app_id, bank)\n",
    "df = scraper.fetch_reviews(540)\n",
    "print(len(df))\n",
    "print(df.head())"
   ]
  },
  {
   "cell_type": "code",
   "execution_count": 20,
   "id": "8edeecc7-3a61-417e-a1b2-42621f994144",
   "metadata": {},
   "outputs": [],
   "source": [
    "# Save raw data\n",
    "os.makedirs('../data/raw', exist_ok=True)\n",
    "df.to_csv(raw_path, index=False)"
   ]
  },
  {
   "cell_type": "code",
   "execution_count": 21,
   "id": "6b003e49-c3d8-4c85-9314-9e0809bb3ca4",
   "metadata": {},
   "outputs": [
    {
     "name": "stdout",
     "output_type": "stream",
     "text": [
      "Dropped 174 rows (32.22%)\n",
      "                                              review  rating        date  \\\n",
      "0  Hello, I’m facing a problem with the BOA Mobil...       1  2025-06-03   \n",
      "2                               BoA Mobile good bank       5  2025-06-02   \n",
      "3                    this is worest app 24/7 loading       1  2025-06-01   \n",
      "4  This App is not interest for Android phone Ple...       1  2025-06-01   \n",
      "5                          BoA system is confartable       5  2025-06-01   \n",
      "\n",
      "                bank       source  \n",
      "0  Bank of Abyssinia  Google Play  \n",
      "2  Bank of Abyssinia  Google Play  \n",
      "3  Bank of Abyssinia  Google Play  \n",
      "4  Bank of Abyssinia  Google Play  \n",
      "5  Bank of Abyssinia  Google Play  \n",
      "366\n"
     ]
    }
   ],
   "source": [
    "# Clean the data\n",
    "preprocessor = ReviewPreprocessor(df)\n",
    "clean_df = preprocessor.clean()\n",
    "\n",
    "# Save cleaned data\n",
    "os.makedirs('../data/processed', exist_ok=True)\n",
    "clean_df.to_csv(processed_path, index=False)\n",
    "print(clean_df.head())\n",
    "print(len(clean_df))"
   ]
  },
  {
   "cell_type": "code",
   "execution_count": null,
   "id": "3b3d1e49-698b-47db-8c92-885d54ef9867",
   "metadata": {},
   "outputs": [],
   "source": []
  }
 ],
 "metadata": {
  "kernelspec": {
   "display_name": "Python 3 (ipykernel)",
   "language": "python",
   "name": "python3"
  },
  "language_info": {
   "codemirror_mode": {
    "name": "ipython",
    "version": 3
   },
   "file_extension": ".py",
   "mimetype": "text/x-python",
   "name": "python",
   "nbconvert_exporter": "python",
   "pygments_lexer": "ipython3",
   "version": "3.10.17"
  }
 },
 "nbformat": 4,
 "nbformat_minor": 5
}
